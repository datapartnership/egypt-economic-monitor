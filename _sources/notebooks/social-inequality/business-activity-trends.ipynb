{
 "cells": [
  {
   "cell_type": "code",
   "execution_count": 1,
   "metadata": {
    "tags": [
     "remove-cell"
    ]
   },
   "outputs": [],
   "source": [
    "import pandas as pd\n",
    "import numpy as np\n",
    "import matplotlib.pyplot as plt\n",
    "from bokeh.plotting import figure, output_file, show, output_notebook\n",
    "from bokeh.models import Span\n",
    "from shapely.geometry import Point\n",
    "import geopandas as gpd\n",
    "import glob\n",
    "from datetime import datetime\n",
    "from bokeh.layouts import Row, column, gridplot\n",
    "from bokeh.models import Title, Legend, TapTool, Range1d, Tabs, Panel\n",
    "import matplotlib as mpl\n",
    "from bokeh.core.validation import silence\n",
    "from bokeh.core.validation.warnings import MISSING_RENDERERS, EMPTY_LAYOUT\n",
    "\n",
    "# Set fonts for matplotlib\n",
    "plt.rcParams['font.family'] = 'Arial'\n",
    "plt.rcParams['font.size'] = 14"
   ]
  },
  {
   "cell_type": "code",
   "execution_count": 2,
   "metadata": {
    "tags": [
     "remove-cell"
    ]
   },
   "outputs": [
    {
     "data": {
      "text/plain": [
       "{Warning(code=1002, name='EMPTY_LAYOUT', description='Layout has no children')}"
      ]
     },
     "execution_count": 2,
     "metadata": {},
     "output_type": "execute_result"
    }
   ],
   "source": [
    "import bokeh\n",
    "from bokeh.core.validation.warnings import EMPTY_LAYOUT\n",
    "bokeh.core.validation.silence(EMPTY_LAYOUT, True)\n",
    "bokeh.core.validation.silence(EMPTY_LAYOUT, True)"
   ]
  },
  {
   "cell_type": "code",
   "execution_count": 3,
   "metadata": {
    "tags": [
     "remove-cell"
    ]
   },
   "outputs": [],
   "source": [
    "def convert_to_gdf(df):\n",
    "    geometry = [Point(xy) for xy in zip(df.longitude, df.latitude)]\n",
    "    gdf = gpd.GeoDataFrame(df, crs=\"EPSG:4326\", geometry=geometry)\n",
    "\n",
    "    return gdf"
   ]
  },
  {
   "cell_type": "markdown",
   "metadata": {},
   "source": [
    "# Analysing business activity trends in Egypt\n",
    "\n",
    "[Business Activity Trends](https://dataforgood.facebook.com/dfg/tools/business-activity-trends#methodology) are a crisis-triggered dataset released by Meta. The dataset is relesed at a national level. [GADM shpefiles](https://gadm.org/) are slightly different from the official shapefiles used in this project from [HdX, UNOCHA](https://data.humdata.org/dataset/cod-ab-tur). COVID-19 triggered dataset is used in this analysis. \n",
    "\n",
    "Business Activity Trends During Crisis uses data about posting activity on Facebook to measure how local businesses are affected by and recover from crisis events. Given the broad presence of small businesses on the Facebook platform, this dataset aims to provide timely estimates of global business activity without the common limitations of traditional data collection methods, such as scale, speed and nonstandardization. This is a crisis-triggered dataset i.e., it has been created by Meta to support humanitarian relief for post COVID in Egypt. Details about this dataset can be found on [Meta's Data For Good page](https://dataforgood.facebook.com/dfg/tools/business-activity-trends). \n",
    "\n",
    "\n",
    "## Data\n",
    "\n",
    "The Business Activity Trends dataset was provided by [Meta](https://dataforgood.facebook.com/dfg/tools/business-activity-trends) through the proposal [Egypt Country Economic Monitor](https://portal.datapartnership.org/readableproposal/427) of the [Development Data Partnership](https://datapartnership.org). The data consisted of daily business activity quantile information at a GADM 2 level broken down by business vertical. Each cell (row) of the dataset contains data on the daily activity within a polygon-vertical combination. \n",
    "\n",
    "\n",
    "**The COVID-19 triggered Business Activity Trends dataset contains daily data from March 1, 2020 to Nov 29, 2022 at the national level. Activity quantile is used to measure the business activity trends in this dataset as well.**\n",
    "\n",
    "\n",
    "**Population Sample**\n",
    "The Business Activity Trends During Crisis dataset uses a static sample of businesses’ Facebook Pages for each crisis defined at each crisis date. It does not take into account new Pages businesses created during the crisis, nor does it exclude Pages removed during the crisis. The sample for each crisis is defined as Facebook Pages that meet the following criteria:\n",
    "* Have an admin\n",
    "* Have monthly activity as of the crisis start date\n",
    "* Were created at least 90 days prior to the crisis start date\n",
    "* List a physical location\n",
    "* Are associated with a business as defined by internal business Page classifiers\n",
    "* Represent a local business according to business vertical categories (which excludes large companies, for example)\n",
    "* Pass Facebook’s internal quality control measures such as filtering for spam and duplicate Pages\n",
    "\n",
    "\n",
    "\n",
    "**Business Vericals**\n",
    "The business verticals are categories determined by the admins of the Facebook Business Page. \n",
    "\n",
    "* *All*: Refers to all businesses in the polygon. This includes all of the following categories except public good, because the activity of public good Pages tends to differ from other businesses during crises.\n",
    "* *Grocery and convenience stores*: Retailers that sell everyday consumable goods including food (typically unprepared foods and ingredients) and a limited range of household goods (like toilet paper). These can include grocery stores, convenience stores, pharmacies and general stores.\n",
    "* *Retail*: Retail other than grocery and convenience stores such as auto dealers, home goods stores, personal goods stores and general merchandise/big-box stores like Walmart\n",
    "Restaurants: Businesses that sell prepared food and beverages for on-premise or off-premise dining\n",
    "* *Local events*: Events, activities and businesses that sell real-life experiences, such as amusement parks, bowling alleys, concert venues and social clubs\n",
    "* *Professional services*: Services driven by demand from an individual event such as a legal need or health issue that require high customization. Providers usually have an advanced degree or certification and are considered experts and “knowledge workers.” Examples include CPAs, lawyers, medical professionals, architects.\n",
    "* *Business and utility services*: Business offering business-to-business services like construction, office cleaning, advertising and marketing, and business software solutions. Utility services offer commodity services like electric, phone, internet, water and energy.\n",
    "* *Home services*: Services driven by demand from an individual event at home such as plumbing or electrical work. Examples include home repairs, photographers, cleaning, mechanics, plumbers, electricians, landscapers, interior decorators.\n",
    "* *Lifestyle services*: Specific to beauty, care and fitness services. These businesses offer standardized services that are part of a customer's regular routines. Examples include gyms, salons, barbers, and nonmedical and noneducational supervision, like childcare nurseries and pet care.\n",
    "* *Travel*: Businesses that provide or sell transportation or accommodation services, such as airlines, hotels, car rentals and tour operators\n",
    "* *Manufacturing*: Businesses that manufacture durable goods (like furniture and cars) or consumable goods (like food and personal goods) and have no or limited business-to-customer sales\n",
    "* *Public good*: Includes government agencies, nonprofits and religious organizations\n",
    "\n",
    "\n",
    "## Methodology\n",
    "\n",
    "This method for understanding local economic activity was first described by the University of Bristol team and published in [Nature Communications](https://www.nature.com/articles/s41467-020-15405-7). Business activity is measured by the volume of posts made by business Pages on Facebook on a daily basis, where a post is defined broadly to include posts, stories and reels created by the business Page anywhere on Facebook. In practice, almost all posts are either made on the business Page itself or in Facebook Groups.\n",
    "\n",
    "For each crisis event, a baseline posting pattern is established using the 90 days prior to the event start date. Meta then measures the daily posting activity relative to the expected posting activity based on the baseline period. Individual business Page activity is then aggregated by business vertical (proxy for economic sector) and by GADM administrative polygons geographically. \n",
    "\n",
    "The business activity is measured through activity quantiles. This is equivalent to the 7-day average of what University of Bristol researchers call the [aggregated probability integral transform metric](https://www.nature.com/articles/s41467-020-15405-7). It is calculated by first computing the approximate quantiles (the midquantiles in the article) of each Page’s daily activity relative to their baseline activity. The quantiles are summed and the sum is then shifted, rescaled and variance-adjusted to follow a standard normal distribution. The adjusted sum is then probability transformed through a standard normal cumulative distribution function to get a value between 0 and 1. Following this, the average of this value over the last 7 days is obtained to smooth out daily fluctuations. This metric is given a quantile interpretation since it compares the daily activity to the distribution of daily activity within the baseline period, where a value around 0.5 is considered normal activity. *This is a one-vote-per-Page metric that gives equal weight to all businesses and is not heavily influenced by businesses that post a lot.* \n",
    "\n",
    "The full technical details of the methodology used for this datset can be found in the [white paper](https://scontent-iad3-2.xx.fbcdn.net/v/t39.8562-6/313431392_1209469252938025_9085357585007907228_n.pdf?_nc_cat=100&ccb=1-7&_nc_sid=ae5e01&_nc_ohc=XYjhPigfKDwAX-PRwOp&_nc_ht=scontent-iad3-2.xx&oh=00_AfAXU8Aylea13vEKHZoffq3qBQw2TVadXDPcKp40Ib5Ziw&oe=6428FDCD) authored by researchers from Meta. \n",
    "\n",
    "\n",
    "## Implementation\n",
    "\n",
    "Once the data was obtained from the Meta Data For Good portal, the polygons were transformed to align with the shapefiles provided by UNOCHA. More details can be found in the attached notebook. \n",
    "\n",
    "\n",
    "## Limitations\n",
    "\n",
    "One of the biggest limitations of using this dataset is that it is based entirely on Facebook users. Therefore, it is important to note that this dataset may not be representative of the entire Egyptian population evenly (Palen & Anderson, 2016). The methodology uses posts on Facebook business pages and groups to estimate changes in business activity. This framework is best used to see how quickly business have recovered from a natural disaster, in this case, the earthquake (Eyre et. al., 2020). The methodology relies on the assumption that businesses tend to publish more posts when they are open and fewer when they are closed, hence analysing the aggregated posting activity of a group of businesses over time it is possible to infer when they are open or closed. \n",
    "\n",
    "\n",
    "## Citations\n",
    "\n",
    "Eyre, R., De Luca, F., & Simini, F. (2020). Social media usage reveals recovery of small businesses after natural hazard events. Nature communications, 11(1), 1629.\n",
    "\n",
    "Palen, L., & Anderson, K. M. (2016). Crisis informatics—New data for extraordinary times. Science, 353(6296), 224-225.\n"
   ]
  },
  {
   "cell_type": "code",
   "execution_count": 4,
   "metadata": {
    "tags": [
     "remove-cell"
    ]
   },
   "outputs": [],
   "source": [
    "egypt_adm2 = gpd.read_file('../../data/shapefiles/egy_admbnda_adm2_capmas_20170421/egy_admbnda_adm2_capmas_20170421.shp')\n",
    "egypt_adm1 = gpd.read_file('../../data/shapefiles/egy_admbnda_adm1_capmas_20170421/egy_admbnda_adm1_capmas_20170421.shp')"
   ]
  },
  {
   "cell_type": "code",
   "execution_count": 46,
   "metadata": {
    "tags": [
     "remove-cell"
    ]
   },
   "outputs": [],
   "source": [
    "all_files = glob.glob('../../data/business_activity_trends/3661471785186399_2020-03-01_2022-11-30_csv/*.csv')\n",
    "\n",
    "businessActivity = pd.DataFrame(columns = ['polygon_id', 'polygon_name', 'polygon_level', 'polygon_version',\n",
    "       'country', 'business_vertical', 'activity_quantile', 'latitude',\n",
    "       'longitude', 'ds'])\n",
    "\n",
    "li = []\n",
    "\n",
    "for file in all_files:\n",
    "    df1 = pd.read_csv(file)\n",
    "    li.append(df1)\n",
    "\n",
    "businessActivity = pd.concat(li, axis=0)\n",
    "businessActivity = businessActivity[businessActivity['country']=='EG']"
   ]
  },
  {
   "cell_type": "code",
   "execution_count": 47,
   "metadata": {
    "tags": [
     "remove-cell"
    ]
   },
   "outputs": [],
   "source": [
    "# convert columns to datetime\n",
    "businessActivity['ds'] = businessActivity['ds'].apply(lambda x: pd.to_datetime(x))\n",
    "businessActivity = businessActivity[businessActivity['country']=='EG' ]"
   ]
  },
  {
   "cell_type": "code",
   "execution_count": 48,
   "metadata": {
    "tags": [
     "hide-input"
    ]
   },
   "outputs": [
    {
     "name": "stdout",
     "output_type": "stream",
     "text": [
      "COVID-19 Business Actvity Trends has the following business verticals ['Home Services', 'Manufacturing', 'Local Events', 'Grocery & Convenience Stores', 'Business & Utility Services', 'Public Good', 'Travel', 'Lifestyle Services', 'Restaurants', 'Retail', 'Professional Services', 'All']\n"
     ]
    }
   ],
   "source": [
    "business_verticals = list(businessActivity['business_vertical'].unique())\n",
    "\n",
    "print(f'COVID-19 Business Actvity Trends has the following business verticals {business_verticals}')"
   ]
  },
  {
   "cell_type": "code",
   "execution_count": 20,
   "metadata": {
    "tags": [
     "remove-cell"
    ]
   },
   "outputs": [],
   "source": [
    "# define color palette\n",
    "color_palette = [  '#4E79A7',  # Blue\n",
    "    '#F28E2B',  # Orange\n",
    "    '#E15759',  # Red\n",
    "    '#76B7B2',  # Teal\n",
    "    '#59A14F',  # Green\n",
    "    '#EDC948',  # Yellow\n",
    "    '#B07AA1',  # Purple\n",
    "    '#FF9DA7',  # Pink\n",
    "    '#9C755F',  # Brown\n",
    "    '#BAB0AC',  # Gray\n",
    "    '#7C7C7C',  # Dark gray\n",
    "    '#6B4C9A',  # Violet\n",
    "    '#D55E00',  # Orange-red\n",
    "    '#CC61B0',  # Magenta\n",
    "    '#0072B2',  # Bright blue\n",
    "    '#329262',  # Peacock green\n",
    "    '#9E5B5A',  # Brick red\n",
    "    '#636363',  # Medium gray\n",
    "    '#CD9C00',  # Gold\n",
    "    '#5D69B1',  # Medium blue\n",
    "]"
   ]
  },
  {
   "cell_type": "code",
   "execution_count": 39,
   "metadata": {
    "tags": [
     "remove-cell"
    ]
   },
   "outputs": [],
   "source": [
    "bokeh.core.validation.silence(EMPTY_LAYOUT, True)\n",
    "\n",
    "def get_line_plot(businessActivity,title, source, earthquakes=False, subtitle=None):\n",
    "\n",
    "    p2 = figure(x_axis_type = 'datetime', width = 1000, height = 400, toolbar_location='above')\n",
    "    p2.add_layout(Legend(), \"right\")\n",
    "\n",
    "    for id, business_vertical in enumerate(businessActivity['business_vertical'].unique()):\n",
    "        df = businessActivity[businessActivity['business_vertical']==business_vertical][['ds', 'activity_quantile']].reset_index(drop=True)\n",
    "        p2.line(df['ds'], df['activity_quantile'], line_width=2, line_color = color_palette[id], legend_label=business_vertical)\n",
    "\n",
    "    p2.legend.click_policy='hide'\n",
    "    if title is not None:\n",
    "        p2.title = title\n",
    "\n",
    "\n",
    "    title_fig = figure(title=title, toolbar_location=None,width=800, height=20 )\n",
    "    title_fig.title.align = \"left\"\n",
    "    title_fig.title.text_font_size = \"10pt\"\n",
    "    title_fig.border_fill_alpha = 0\n",
    "    title_fig.outline_line_width=0\n",
    "\n",
    "    #with silence(MISSING_RENDERERS):\n",
    "    sub_title = figure(title=source, toolbar_location=None,width=800, height=20 )\n",
    "    sub_title.title.align = \"left\"\n",
    "    sub_title.title.text_font_size = \"10pt\"\n",
    "    sub_title.title.text_font_style=\"normal\"\n",
    "    sub_title.border_fill_alpha = 0\n",
    "    sub_title.outline_line_width=0\n",
    "\n",
    "    layout = column(title_fig, p2, sub_title)\n",
    "\n",
    "#     if earthquakes:\n",
    "#         p2.renderers.extend([\n",
    "#         Span(\n",
    "#             location=datetime(2023, 2, 6),\n",
    "#             dimension=\"height\",\n",
    "#             line_color='#7C7C7C',\n",
    "#             line_width=2,\n",
    "#             line_dash=(4,4)\n",
    "#       ),\n",
    "#         Span(\n",
    "#             location=datetime(2023, 2, 20),\n",
    "#             dimension=\"height\",\n",
    "#             line_color='#7C7C7C',\n",
    "#             line_width=2,\n",
    "#             line_dash=(4,4)\n",
    "#         ),\n",
    "#     ]\n",
    "# )\n",
    "\n",
    "    return p2\n",
    "\n"
   ]
  },
  {
   "cell_type": "code",
   "execution_count": 52,
   "metadata": {
    "tags": [
     "remove-cell"
    ]
   },
   "outputs": [],
   "source": [
    "df = businessActivity.groupby([pd.Grouper(key='ds', freq='M'), 'business_vertical']).mean().reset_index()"
   ]
  },
  {
   "cell_type": "code",
   "execution_count": 57,
   "metadata": {
    "tags": [
     "hide-input"
    ]
   },
   "outputs": [
    {
     "data": {
      "text/html": [
       "<div class=\"bk-root\">\n",
       "        <a href=\"https://bokeh.org\" target=\"_blank\" class=\"bk-logo bk-logo-small bk-logo-notebook\"></a>\n",
       "        <span id=\"15311\">Loading BokehJS ...</span>\n",
       "    </div>\n"
      ]
     },
     "metadata": {},
     "output_type": "display_data"
    },
    {
     "data": {
      "application/javascript": "(function(root) {\n  function now() {\n    return new Date();\n  }\n\n  const force = true;\n\n  if (typeof root._bokeh_onload_callbacks === \"undefined\" || force === true) {\n    root._bokeh_onload_callbacks = [];\n    root._bokeh_is_loading = undefined;\n  }\n\nconst JS_MIME_TYPE = 'application/javascript';\n  const HTML_MIME_TYPE = 'text/html';\n  const EXEC_MIME_TYPE = 'application/vnd.bokehjs_exec.v0+json';\n  const CLASS_NAME = 'output_bokeh rendered_html';\n\n  /**\n   * Render data to the DOM node\n   */\n  function render(props, node) {\n    const script = document.createElement(\"script\");\n    node.appendChild(script);\n  }\n\n  /**\n   * Handle when an output is cleared or removed\n   */\n  function handleClearOutput(event, handle) {\n    const cell = handle.cell;\n\n    const id = cell.output_area._bokeh_element_id;\n    const server_id = cell.output_area._bokeh_server_id;\n    // Clean up Bokeh references\n    if (id != null && id in Bokeh.index) {\n      Bokeh.index[id].model.document.clear();\n      delete Bokeh.index[id];\n    }\n\n    if (server_id !== undefined) {\n      // Clean up Bokeh references\n      const cmd_clean = \"from bokeh.io.state import curstate; print(curstate().uuid_to_server['\" + server_id + \"'].get_sessions()[0].document.roots[0]._id)\";\n      cell.notebook.kernel.execute(cmd_clean, {\n        iopub: {\n          output: function(msg) {\n            const id = msg.content.text.trim();\n            if (id in Bokeh.index) {\n              Bokeh.index[id].model.document.clear();\n              delete Bokeh.index[id];\n            }\n          }\n        }\n      });\n      // Destroy server and session\n      const cmd_destroy = \"import bokeh.io.notebook as ion; ion.destroy_server('\" + server_id + \"')\";\n      cell.notebook.kernel.execute(cmd_destroy);\n    }\n  }\n\n  /**\n   * Handle when a new output is added\n   */\n  function handleAddOutput(event, handle) {\n    const output_area = handle.output_area;\n    const output = handle.output;\n\n    // limit handleAddOutput to display_data with EXEC_MIME_TYPE content only\n    if ((output.output_type != \"display_data\") || (!Object.prototype.hasOwnProperty.call(output.data, EXEC_MIME_TYPE))) {\n      return\n    }\n\n    const toinsert = output_area.element.find(\".\" + CLASS_NAME.split(' ')[0]);\n\n    if (output.metadata[EXEC_MIME_TYPE][\"id\"] !== undefined) {\n      toinsert[toinsert.length - 1].firstChild.textContent = output.data[JS_MIME_TYPE];\n      // store reference to embed id on output_area\n      output_area._bokeh_element_id = output.metadata[EXEC_MIME_TYPE][\"id\"];\n    }\n    if (output.metadata[EXEC_MIME_TYPE][\"server_id\"] !== undefined) {\n      const bk_div = document.createElement(\"div\");\n      bk_div.innerHTML = output.data[HTML_MIME_TYPE];\n      const script_attrs = bk_div.children[0].attributes;\n      for (let i = 0; i < script_attrs.length; i++) {\n        toinsert[toinsert.length - 1].firstChild.setAttribute(script_attrs[i].name, script_attrs[i].value);\n        toinsert[toinsert.length - 1].firstChild.textContent = bk_div.children[0].textContent\n      }\n      // store reference to server id on output_area\n      output_area._bokeh_server_id = output.metadata[EXEC_MIME_TYPE][\"server_id\"];\n    }\n  }\n\n  function register_renderer(events, OutputArea) {\n\n    function append_mime(data, metadata, element) {\n      // create a DOM node to render to\n      const toinsert = this.create_output_subarea(\n        metadata,\n        CLASS_NAME,\n        EXEC_MIME_TYPE\n      );\n      this.keyboard_manager.register_events(toinsert);\n      // Render to node\n      const props = {data: data, metadata: metadata[EXEC_MIME_TYPE]};\n      render(props, toinsert[toinsert.length - 1]);\n      element.append(toinsert);\n      return toinsert\n    }\n\n    /* Handle when an output is cleared or removed */\n    events.on('clear_output.CodeCell', handleClearOutput);\n    events.on('delete.Cell', handleClearOutput);\n\n    /* Handle when a new output is added */\n    events.on('output_added.OutputArea', handleAddOutput);\n\n    /**\n     * Register the mime type and append_mime function with output_area\n     */\n    OutputArea.prototype.register_mime_type(EXEC_MIME_TYPE, append_mime, {\n      /* Is output safe? */\n      safe: true,\n      /* Index of renderer in `output_area.display_order` */\n      index: 0\n    });\n  }\n\n  // register the mime type if in Jupyter Notebook environment and previously unregistered\n  if (root.Jupyter !== undefined) {\n    const events = require('base/js/events');\n    const OutputArea = require('notebook/js/outputarea').OutputArea;\n\n    if (OutputArea.prototype.mime_types().indexOf(EXEC_MIME_TYPE) == -1) {\n      register_renderer(events, OutputArea);\n    }\n  }\n  if (typeof (root._bokeh_timeout) === \"undefined\" || force === true) {\n    root._bokeh_timeout = Date.now() + 5000;\n    root._bokeh_failed_load = false;\n  }\n\n  const NB_LOAD_WARNING = {'data': {'text/html':\n     \"<div style='background-color: #fdd'>\\n\"+\n     \"<p>\\n\"+\n     \"BokehJS does not appear to have successfully loaded. If loading BokehJS from CDN, this \\n\"+\n     \"may be due to a slow or bad network connection. Possible fixes:\\n\"+\n     \"</p>\\n\"+\n     \"<ul>\\n\"+\n     \"<li>re-rerun `output_notebook()` to attempt to load from CDN again, or</li>\\n\"+\n     \"<li>use INLINE resources instead, as so:</li>\\n\"+\n     \"</ul>\\n\"+\n     \"<code>\\n\"+\n     \"from bokeh.resources import INLINE\\n\"+\n     \"output_notebook(resources=INLINE)\\n\"+\n     \"</code>\\n\"+\n     \"</div>\"}};\n\n  function display_loaded() {\n    const el = document.getElementById(\"15311\");\n    if (el != null) {\n      el.textContent = \"BokehJS is loading...\";\n    }\n    if (root.Bokeh !== undefined) {\n      if (el != null) {\n        el.textContent = \"BokehJS \" + root.Bokeh.version + \" successfully loaded.\";\n      }\n    } else if (Date.now() < root._bokeh_timeout) {\n      setTimeout(display_loaded, 100)\n    }\n  }\n\n  function run_callbacks() {\n    try {\n      root._bokeh_onload_callbacks.forEach(function(callback) {\n        if (callback != null)\n          callback();\n      });\n    } finally {\n      delete root._bokeh_onload_callbacks\n    }\n    console.debug(\"Bokeh: all callbacks have finished\");\n  }\n\n  function load_libs(css_urls, js_urls, callback) {\n    if (css_urls == null) css_urls = [];\n    if (js_urls == null) js_urls = [];\n\n    root._bokeh_onload_callbacks.push(callback);\n    if (root._bokeh_is_loading > 0) {\n      console.debug(\"Bokeh: BokehJS is being loaded, scheduling callback at\", now());\n      return null;\n    }\n    if (js_urls == null || js_urls.length === 0) {\n      run_callbacks();\n      return null;\n    }\n    console.debug(\"Bokeh: BokehJS not loaded, scheduling load and callback at\", now());\n    root._bokeh_is_loading = css_urls.length + js_urls.length;\n\n    function on_load() {\n      root._bokeh_is_loading--;\n      if (root._bokeh_is_loading === 0) {\n        console.debug(\"Bokeh: all BokehJS libraries/stylesheets loaded\");\n        run_callbacks()\n      }\n    }\n\n    function on_error(url) {\n      console.error(\"failed to load \" + url);\n    }\n\n    for (let i = 0; i < css_urls.length; i++) {\n      const url = css_urls[i];\n      const element = document.createElement(\"link\");\n      element.onload = on_load;\n      element.onerror = on_error.bind(null, url);\n      element.rel = \"stylesheet\";\n      element.type = \"text/css\";\n      element.href = url;\n      console.debug(\"Bokeh: injecting link tag for BokehJS stylesheet: \", url);\n      document.body.appendChild(element);\n    }\n\n    for (let i = 0; i < js_urls.length; i++) {\n      const url = js_urls[i];\n      const element = document.createElement('script');\n      element.onload = on_load;\n      element.onerror = on_error.bind(null, url);\n      element.async = false;\n      element.src = url;\n      console.debug(\"Bokeh: injecting script tag for BokehJS library: \", url);\n      document.head.appendChild(element);\n    }\n  };\n\n  function inject_raw_css(css) {\n    const element = document.createElement(\"style\");\n    element.appendChild(document.createTextNode(css));\n    document.body.appendChild(element);\n  }\n\n  const js_urls = [\"https://cdn.bokeh.org/bokeh/release/bokeh-2.4.3.min.js\", \"https://cdn.bokeh.org/bokeh/release/bokeh-gl-2.4.3.min.js\", \"https://cdn.bokeh.org/bokeh/release/bokeh-widgets-2.4.3.min.js\", \"https://cdn.bokeh.org/bokeh/release/bokeh-tables-2.4.3.min.js\", \"https://cdn.bokeh.org/bokeh/release/bokeh-mathjax-2.4.3.min.js\"];\n  const css_urls = [];\n\n  const inline_js = [    function(Bokeh) {\n      Bokeh.set_log_level(\"info\");\n    },\nfunction(Bokeh) {\n    }\n  ];\n\n  function run_inline_js() {\n    if (root.Bokeh !== undefined || force === true) {\n          for (let i = 0; i < inline_js.length; i++) {\n      inline_js[i].call(root, root.Bokeh);\n    }\nif (force === true) {\n        display_loaded();\n      }} else if (Date.now() < root._bokeh_timeout) {\n      setTimeout(run_inline_js, 100);\n    } else if (!root._bokeh_failed_load) {\n      console.log(\"Bokeh: BokehJS failed to load within specified timeout.\");\n      root._bokeh_failed_load = true;\n    } else if (force !== true) {\n      const cell = $(document.getElementById(\"15311\")).parents('.cell').data().cell;\n      cell.output_area.append_execute_result(NB_LOAD_WARNING)\n    }\n  }\n\n  if (root._bokeh_is_loading === 0) {\n    console.debug(\"Bokeh: BokehJS loaded, going straight to plotting\");\n    run_inline_js();\n  } else {\n    load_libs(css_urls, js_urls, function() {\n      console.debug(\"Bokeh: BokehJS plotting callback run at\", now());\n      run_inline_js();\n    });\n  }\n}(window));",
      "application/vnd.bokehjs_load.v0+json": ""
     },
     "metadata": {},
     "output_type": "display_data"
    },
    {
     "data": {
      "text/html": [
       "\n",
       "  <div class=\"bk-root\" id=\"2ed3e315-ca93-4e10-a319-8972ce81663f\" data-root-id=\"15906\"></div>\n"
      ]
     },
     "metadata": {},
     "output_type": "display_data"
    },
    {
     "data": {
      "application/javascript": "(function(root) {\n  function embed_document(root) {\n  const docs_json = {\"a0676cf4-2893-48dd-b979-8ad63729014d\":{\"defs\":[],\"roots\":{\"references\":[{\"attributes\":{\"sizing_mode\":\"scale_both\",\"tabs\":[{\"id\":\"15905\"}]},\"id\":\"15906\",\"type\":\"Tabs\"},{\"attributes\":{},\"id\":\"15391\",\"type\":\"Selection\"},{\"attributes\":{},\"id\":\"15390\",\"type\":\"UnionRenderers\"},{\"attributes\":{\"coordinates\":null,\"data_source\":{\"id\":\"15640\"},\"glyph\":{\"id\":\"15641\"},\"group\":null,\"hover_glyph\":null,\"muted_glyph\":{\"id\":\"15643\"},\"nonselection_glyph\":{\"id\":\"15642\"},\"view\":{\"id\":\"15645\"}},\"id\":\"15644\",\"type\":\"GlyphRenderer\"},{\"attributes\":{\"line_color\":\"#6B4C9A\",\"line_width\":2,\"x\":{\"field\":\"x\"},\"y\":{\"field\":\"y\"}},\"id\":\"15785\",\"type\":\"Line\"},{\"attributes\":{\"source\":{\"id\":\"15640\"}},\"id\":\"15645\",\"type\":\"CDSView\"},{\"attributes\":{},\"id\":\"15821\",\"type\":\"Selection\"},{\"attributes\":{\"coordinates\":null,\"data_source\":{\"id\":\"15686\"},\"glyph\":{\"id\":\"15687\"},\"group\":null,\"hover_glyph\":null,\"muted_glyph\":{\"id\":\"15689\"},\"nonselection_glyph\":{\"id\":\"15688\"},\"view\":{\"id\":\"15691\"}},\"id\":\"15690\",\"type\":\"GlyphRenderer\"},{\"attributes\":{\"child\":{\"id\":\"15312\"},\"title\":\"2022\"},\"id\":\"15905\",\"type\":\"Panel\"},{\"attributes\":{\"axis\":{\"id\":\"15325\"},\"coordinates\":null,\"dimension\":1,\"group\":null,\"ticker\":null},\"id\":\"15328\",\"type\":\"Grid\"},{\"attributes\":{\"line_alpha\":0.2,\"line_color\":\"#6B4C9A\",\"line_width\":2,\"x\":{\"field\":\"x\"},\"y\":{\"field\":\"y\"}},\"id\":\"15787\",\"type\":\"Line\"},{\"attributes\":{\"data\":{\"x\":{\"__ndarray__\":\"AAAANN4Sd0IAAIAghhx3QgAAwHKAJndCAABAXygwd0IAAICxIjp3QgAAwAMdRHdCAABA8MRNd0IAAIBCv1d3QgAAAC9nYXdCAABAgWFrd0IAAIDTW3V3QgAAgPRefndCAADARlmId0IAAEAzAZJ3QgAAgIX7m3dCAAAAcqOld0IAAEDEna93QgAAgBaYuXdCAAAAA0DDd0IAAEBVOs13QgAAwEHi1ndCAAAAlNzgd0IAAEDm1up3QgAAQAfa83dCAACAWdT9d0IAAABGfAd4QgAAQJh2EXhCAADAhB4beEIAAADXGCV4QgAAQCkTL3hCAADAFbs4eEIAAABotUJ4QgAAgFRdTHhC\",\"dtype\":\"float64\",\"order\":\"little\",\"shape\":[33]},\"y\":{\"__ndarray__\":\"UuWSLUcq0T+91SWX9VipP1or6c+cNKw/V4bPCHfHwT+dCWgzvTnbPy8LVmDtfdU/ydsRhHff0D97oe4ToJPSP8RBxR2aXcg/QM+AGpMLyT+ickcxZSPMP9V7AL2sLsY/IY3GnWSQxD9qHbayW5rRP7fTRg+RuNM/c7BX9fGX1j8cq7Ig66bZP/ZqyfAo8s4/i9WGNpR9wT8ly8u4Y0nCPzZsSefI8cY/HyTCnlW/xz9BN2ync3/CP6IHyFUZp8o/5nqCt9w/zj9i/1pKTxTWP84OPX6y9dU/JUu5Vfrx1D/BwnsPfXzVP3cr11Rg9Ms/wCxKqgYcxD+2pALxEWnEP2p/uvtdFMc/\",\"dtype\":\"float64\",\"order\":\"little\",\"shape\":[33]}},\"selected\":{\"id\":\"15821\"},\"selection_policy\":{\"id\":\"15820\"}},\"id\":\"15784\",\"type\":\"ColumnDataSource\"},{\"attributes\":{},\"id\":\"15671\",\"type\":\"Selection\"},{\"attributes\":{\"source\":{\"id\":\"15514\"}},\"id\":\"15519\",\"type\":\"CDSView\"},{\"attributes\":{\"line_alpha\":0.1,\"line_color\":\"#6B4C9A\",\"line_width\":2,\"x\":{\"field\":\"x\"},\"y\":{\"field\":\"y\"}},\"id\":\"15786\",\"type\":\"Line\"},{\"attributes\":{\"line_alpha\":0.2,\"line_color\":\"#9C755F\",\"line_width\":2,\"x\":{\"field\":\"x\"},\"y\":{\"field\":\"y\"}},\"id\":\"15643\",\"type\":\"Line\"},{\"attributes\":{\"data\":{\"x\":{\"__ndarray__\":\"AAAANN4Sd0IAAIAghhx3QgAAwHKAJndCAABAXygwd0IAAICxIjp3QgAAwAMdRHdCAABA8MRNd0IAAIBCv1d3QgAAAC9nYXdCAABAgWFrd0IAAIDTW3V3QgAAgPRefndCAADARlmId0IAAEAzAZJ3QgAAgIX7m3dCAAAAcqOld0IAAEDEna93QgAAgBaYuXdCAAAAA0DDd0IAAEBVOs13QgAAwEHi1ndCAAAAlNzgd0IAAEDm1up3QgAAQAfa83dCAACAWdT9d0IAAABGfAd4QgAAQJh2EXhCAADAhB4beEIAAADXGCV4QgAAQCkTL3hCAADAFbs4eEIAAABotUJ4QgAAgFRdTHhC\",\"dtype\":\"float64\",\"order\":\"little\",\"shape\":[33]},\"y\":{\"__ndarray__\":\"Qxt3AQvx5z8MAVxt0rPpP5FJWy855uI/4CQG+B1r0T+90Bp5ZqrTP2GLKTyOL8o/xouEHlTfyD+4i4xo4ZzPP8R/Z6YDKtM/QeAGESqy0j8AfTj9ZcTPP7rTgWWCrcw/z/3F5mqu1D8rDIqfqpngP8Lb9ljwKdI/1qvM6QMmyT+8bLeS2pbMPwCpnTjvWMo/MQjcmNh9yz8h5Ar8Dc7TP6mubTPFW9A/h4YGTZC+zT8mYUOVU9y9P3UN7PZWJM4/NnQDutny2D/HHLRMTCXgPw6iCPyUIsc/sQojqspQzD/EHMRb2DnHPxLU2Wpubc0/IET83deJzz9Sj3gYkBLSP6RtCKkcYMw/\",\"dtype\":\"float64\",\"order\":\"little\",\"shape\":[33]}},\"selected\":{\"id\":\"15671\"},\"selection_policy\":{\"id\":\"15670\"}},\"id\":\"15640\",\"type\":\"ColumnDataSource\"},{\"attributes\":{\"label\":{\"value\":\"Public Good\"},\"renderers\":[{\"id\":\"15644\"}]},\"id\":\"15685\",\"type\":\"LegendItem\"},{\"attributes\":{},\"id\":\"15357\",\"type\":\"AllLabels\"},{\"attributes\":{},\"id\":\"15539\",\"type\":\"Selection\"},{\"attributes\":{},\"id\":\"15820\",\"type\":\"UnionRenderers\"},{\"attributes\":{\"coordinates\":null,\"data_source\":{\"id\":\"15406\"},\"glyph\":{\"id\":\"15407\"},\"group\":null,\"hover_glyph\":null,\"muted_glyph\":{\"id\":\"15409\"},\"nonselection_glyph\":{\"id\":\"15408\"},\"view\":{\"id\":\"15411\"}},\"id\":\"15410\",\"type\":\"GlyphRenderer\"},{\"attributes\":{\"line_color\":\"#EDC948\",\"line_width\":2,\"x\":{\"field\":\"x\"},\"y\":{\"field\":\"y\"}},\"id\":\"15515\",\"type\":\"Line\"},{\"attributes\":{\"source\":{\"id\":\"15406\"}},\"id\":\"15411\",\"type\":\"CDSView\"},{\"attributes\":{\"line_alpha\":0.1,\"line_color\":\"#9C755F\",\"line_width\":2,\"x\":{\"field\":\"x\"},\"y\":{\"field\":\"y\"}},\"id\":\"15642\",\"type\":\"Line\"},{\"attributes\":{\"label\":{\"value\":\"Restaurants\"},\"renderers\":[{\"id\":\"15690\"}]},\"id\":\"15733\",\"type\":\"LegendItem\"},{\"attributes\":{\"label\":{\"value\":\"Local Events\"},\"renderers\":[{\"id\":\"15518\"}]},\"id\":\"15553\",\"type\":\"LegendItem\"},{\"attributes\":{},\"id\":\"15356\",\"type\":\"DatetimeTickFormatter\"},{\"attributes\":{\"coordinates\":null,\"data_source\":{\"id\":\"15440\"},\"glyph\":{\"id\":\"15441\"},\"group\":null,\"hover_glyph\":null,\"muted_glyph\":{\"id\":\"15443\"},\"nonselection_glyph\":{\"id\":\"15442\"},\"view\":{\"id\":\"15445\"}},\"id\":\"15444\",\"type\":\"GlyphRenderer\"},{\"attributes\":{},\"id\":\"15670\",\"type\":\"UnionRenderers\"},{\"attributes\":{\"line_alpha\":0.2,\"line_color\":\"#EDC948\",\"line_width\":2,\"x\":{\"field\":\"x\"},\"y\":{\"field\":\"y\"}},\"id\":\"15517\",\"type\":\"Line\"},{\"attributes\":{\"data\":{\"x\":{\"__ndarray__\":\"AAAANN4Sd0IAAIAghhx3QgAAwHKAJndCAABAXygwd0IAAICxIjp3QgAAwAMdRHdCAABA8MRNd0IAAIBCv1d3QgAAAC9nYXdCAABAgWFrd0IAAIDTW3V3QgAAgPRefndCAADARlmId0IAAEAzAZJ3QgAAgIX7m3dCAAAAcqOld0IAAEDEna93QgAAgBaYuXdCAAAAA0DDd0IAAEBVOs13QgAAwEHi1ndCAAAAlNzgd0IAAEDm1up3QgAAQAfa83dCAACAWdT9d0IAAABGfAd4QgAAQJh2EXhCAADAhB4beEIAAADXGCV4QgAAQCkTL3hCAADAFbs4eEIAAABotUJ4QgAAgFRdTHhC\",\"dtype\":\"float64\",\"order\":\"little\",\"shape\":[33]},\"y\":{\"__ndarray__\":\"WaePOyrpyz+bsbmCrb2UPxQTFcDLzYY/R0rvkhyMVD9pGEgdqhChP//jx8hLXaY/9xIan8jtnT+ZRdxS04ynP+3EDNRL2p0/GUWONPFEkz9WXNQp5fOcP7YuuLV9IH8/I9WESC64lz86wHCfvYe0P+1u8qNPY6o/+8IGO5mStT8EHFNl0lK1P1xMZoqGI7M/3mpcPRReoD9RwfLGbs+kP73ytPbg46c/UjM6vpYVpT9vOYVwaiyiP9ViBsg/yKM/2MY6Qp3MmT82VJmkY7OnP8j8vYjvNb4/AJo+nycXuz9m7GYai0q0P+UnSV3+Dpg/isxmFRUAlD/N0DDfh5J9P8AXeDtRyX8/\",\"dtype\":\"float64\",\"order\":\"little\",\"shape\":[33]}},\"selected\":{\"id\":\"15539\"},\"selection_policy\":{\"id\":\"15538\"}},\"id\":\"15514\",\"type\":\"ColumnDataSource\"},{\"attributes\":{},\"id\":\"15425\",\"type\":\"Selection\"},{\"attributes\":{},\"id\":\"15326\",\"type\":\"BasicTicker\"},{\"attributes\":{\"line_alpha\":0.1,\"line_color\":\"#EDC948\",\"line_width\":2,\"x\":{\"field\":\"x\"},\"y\":{\"field\":\"y\"}},\"id\":\"15516\",\"type\":\"Line\"},{\"attributes\":{\"line_alpha\":0.2,\"line_color\":\"#E15759\",\"line_width\":2,\"x\":{\"field\":\"x\"},\"y\":{\"field\":\"y\"}},\"id\":\"15409\",\"type\":\"Line\"},{\"attributes\":{\"data\":{\"x\":{\"__ndarray__\":\"AAAANN4Sd0IAAIAghhx3QgAAwHKAJndCAABAXygwd0IAAICxIjp3QgAAwAMdRHdCAABA8MRNd0IAAIBCv1d3QgAAAC9nYXdCAABAgWFrd0IAAIDTW3V3QgAAgPRefndCAADARlmId0IAAEAzAZJ3QgAAgIX7m3dCAAAAcqOld0IAAEDEna93QgAAgBaYuXdCAAAAA0DDd0IAAEBVOs13QgAAwEHi1ndCAAAAlNzgd0IAAEDm1up3QgAAQAfa83dCAACAWdT9d0IAAABGfAd4QgAAQJh2EXhCAADAhB4beEIAAADXGCV4QgAAQCkTL3hCAADAFbs4eEIAAABotUJ4QgAAgFRdTHhC\",\"dtype\":\"float64\",\"order\":\"little\",\"shape\":[33]},\"y\":{\"__ndarray__\":\"/pfe89NN5z908TD99m7mP7XmIueWUuo/rn5QQpPT5D9Xd5jl4xPpP9cW4vJIZt4/NVw9BUZ34j8EHTDARDLlPw65SxByS+U/fItVV+C75j/r3dfsV5LmPy0z5RWh6eg/+YoBef3x6T/Xiyf4Ra/rPyXYlZ93lOQ/fXIxzILI5D+XN6GNQBrhPySrATT6VuA/jA1NEI9p5T++vfxO+kjnP0d14aCSt+Q/W1HF5fJa5j8i/pOYE7PiP5MoAzWYY+Q/jLn1dxjn5j9Opv5/SM3qP8EvM7aBItk/4udmsPOH4T9C25UyoxbYP+QQn/yJh9w/n/gQISAT3T8mlTIcnTLgP37kO56w89s/\",\"dtype\":\"float64\",\"order\":\"little\",\"shape\":[33]}},\"selected\":{\"id\":\"15425\"},\"selection_policy\":{\"id\":\"15424\"}},\"id\":\"15406\",\"type\":\"ColumnDataSource\"},{\"attributes\":{},\"id\":\"15358\",\"type\":\"UnionRenderers\"},{\"attributes\":{},\"id\":\"15538\",\"type\":\"UnionRenderers\"},{\"attributes\":{\"coordinates\":null,\"data_source\":{\"id\":\"15554\"},\"glyph\":{\"id\":\"15555\"},\"group\":null,\"hover_glyph\":null,\"muted_glyph\":{\"id\":\"15557\"},\"nonselection_glyph\":{\"id\":\"15556\"},\"view\":{\"id\":\"15559\"}},\"id\":\"15558\",\"type\":\"GlyphRenderer\"},{\"attributes\":{\"line_alpha\":0.2,\"line_color\":\"#4E79A7\",\"line_width\":2,\"x\":{\"field\":\"x\"},\"y\":{\"field\":\"y\"}},\"id\":\"15347\",\"type\":\"Line\"},{\"attributes\":{},\"id\":\"15315\",\"type\":\"DataRange1d\"},{\"attributes\":{\"label\":{\"value\":\"Grocery & Convenience Stores\"},\"renderers\":[{\"id\":\"15410\"}]},\"id\":\"15439\",\"type\":\"LegendItem\"},{\"attributes\":{\"line_alpha\":0.1,\"line_color\":\"#E15759\",\"line_width\":2,\"x\":{\"field\":\"x\"},\"y\":{\"field\":\"y\"}},\"id\":\"15408\",\"type\":\"Line\"},{\"attributes\":{\"coordinates\":null,\"formatter\":{\"id\":\"15353\"},\"group\":null,\"major_label_policy\":{\"id\":\"15354\"},\"ticker\":{\"id\":\"15326\"}},\"id\":\"15325\",\"type\":\"LinearAxis\"},{\"attributes\":{\"coordinates\":null,\"group\":null,\"text\":\"Business Activity (National average post 1st March 2020)\"},\"id\":\"15836\",\"type\":\"Title\"},{\"attributes\":{\"coordinates\":null,\"formatter\":{\"id\":\"15356\"},\"group\":null,\"major_label_policy\":{\"id\":\"15357\"},\"ticker\":{\"id\":\"15322\"}},\"id\":\"15321\",\"type\":\"DatetimeAxis\"},{\"attributes\":{\"label\":{\"value\":\"Home Services\"},\"renderers\":[{\"id\":\"15444\"}]},\"id\":\"15475\",\"type\":\"LegendItem\"},{\"attributes\":{},\"id\":\"15424\",\"type\":\"UnionRenderers\"},{\"attributes\":{},\"id\":\"15332\",\"type\":\"SaveTool\"},{\"attributes\":{\"axis\":{\"id\":\"15321\"},\"coordinates\":null,\"group\":null,\"ticker\":null},\"id\":\"15324\",\"type\":\"Grid\"},{\"attributes\":{\"source\":{\"id\":\"15686\"}},\"id\":\"15691\",\"type\":\"CDSView\"},{\"attributes\":{},\"id\":\"15329\",\"type\":\"PanTool\"},{\"attributes\":{\"coordinates\":null,\"data_source\":{\"id\":\"15734\"},\"glyph\":{\"id\":\"15735\"},\"group\":null,\"hover_glyph\":null,\"muted_glyph\":{\"id\":\"15737\"},\"nonselection_glyph\":{\"id\":\"15736\"},\"view\":{\"id\":\"15739\"}},\"id\":\"15738\",\"type\":\"GlyphRenderer\"},{\"attributes\":{\"source\":{\"id\":\"15554\"}},\"id\":\"15559\",\"type\":\"CDSView\"},{\"attributes\":{\"coordinates\":null,\"data_source\":{\"id\":\"15344\"},\"glyph\":{\"id\":\"15345\"},\"group\":null,\"hover_glyph\":null,\"muted_glyph\":{\"id\":\"15347\"},\"nonselection_glyph\":{\"id\":\"15346\"},\"view\":{\"id\":\"15349\"}},\"id\":\"15348\",\"type\":\"GlyphRenderer\"},{\"attributes\":{\"line_color\":\"#BAB0AC\",\"line_width\":2,\"x\":{\"field\":\"x\"},\"y\":{\"field\":\"y\"}},\"id\":\"15687\",\"type\":\"Line\"},{\"attributes\":{\"overlay\":{\"id\":\"15335\"}},\"id\":\"15331\",\"type\":\"BoxZoomTool\"},{\"attributes\":{},\"id\":\"15581\",\"type\":\"Selection\"},{\"attributes\":{\"mantissas\":[1,2,5],\"max_interval\":500.0,\"num_minor_ticks\":0},\"id\":\"15361\",\"type\":\"AdaptiveTicker\"},{\"attributes\":{},\"id\":\"15719\",\"type\":\"Selection\"},{\"attributes\":{},\"id\":\"15333\",\"type\":\"ResetTool\"},{\"attributes\":{\"base\":60,\"mantissas\":[1,2,5,10,15,20,30],\"max_interval\":1800000.0,\"min_interval\":1000.0,\"num_minor_ticks\":0},\"id\":\"15362\",\"type\":\"AdaptiveTicker\"},{\"attributes\":{\"data\":{\"x\":{\"__ndarray__\":\"AAAANN4Sd0IAAIAghhx3QgAAwHKAJndCAABAXygwd0IAAICxIjp3QgAAwAMdRHdCAABA8MRNd0IAAIBCv1d3QgAAAC9nYXdCAABAgWFrd0IAAIDTW3V3QgAAgPRefndCAADARlmId0IAAEAzAZJ3QgAAgIX7m3dCAAAAcqOld0IAAEDEna93QgAAgBaYuXdCAAAAA0DDd0IAAEBVOs13QgAAwEHi1ndCAAAAlNzgd0IAAEDm1up3QgAAQAfa83dCAACAWdT9d0IAAABGfAd4QgAAQJh2EXhCAADAhB4beEIAAADXGCV4QgAAQCkTL3hCAADAFbs4eEIAAABotUJ4QgAAgFRdTHhC\",\"dtype\":\"float64\",\"order\":\"little\",\"shape\":[33]},\"y\":{\"__ndarray__\":\"yJX2cw7L3z8+Gj3aL1bGP5iVLVbIy8U/yU0q3VHTwz9owYukKL7RPxbOFcoEncs/7wwNjv/HzD/lhkT9ThvUP5o5wY9K4dU/gjNK3MLZ0z+S9RokEPzNP1GqdJ2cCNA/XlfigX7Q0z9n6iy4QgrXP2hBS4+sZcs/XyGoZGgSzj/BCyrK0DPLP7crG2havsU/dCVKJofkxT/Fx3UcKEfQPzL+xjFxkNA/bDplNYQuzz/HCzEriFXGP5LfE26gjMk/qWr38B110D+rSNAySzjQP2MrHIkiWcM/kK4UHjrJwz/peyWzcYXBP4Cu3jdFJLo//8gAPoUCuz8IqwU5yn3DP525w/wF+sA/\",\"dtype\":\"float64\",\"order\":\"little\",\"shape\":[33]}},\"selected\":{\"id\":\"15359\"},\"selection_policy\":{\"id\":\"15358\"}},\"id\":\"15344\",\"type\":\"ColumnDataSource\"},{\"attributes\":{\"line_color\":\"#B07AA1\",\"line_width\":2,\"x\":{\"field\":\"x\"},\"y\":{\"field\":\"y\"}},\"id\":\"15555\",\"type\":\"Line\"},{\"attributes\":{\"line_alpha\":0.2,\"line_color\":\"#BAB0AC\",\"line_width\":2,\"x\":{\"field\":\"x\"},\"y\":{\"field\":\"y\"}},\"id\":\"15689\",\"type\":\"Line\"},{\"attributes\":{\"months\":[0,1,2,3,4,5,6,7,8,9,10,11]},\"id\":\"15368\",\"type\":\"MonthsTicker\"},{\"attributes\":{\"days\":[1,8,15,22]},\"id\":\"15366\",\"type\":\"DaysTicker\"},{\"attributes\":{\"data\":{\"x\":{\"__ndarray__\":\"AAAANN4Sd0IAAIAghhx3QgAAwHKAJndCAABAXygwd0IAAICxIjp3QgAAwAMdRHdCAABA8MRNd0IAAIBCv1d3QgAAAC9nYXdCAABAgWFrd0IAAIDTW3V3QgAAgPRefndCAADARlmId0IAAEAzAZJ3QgAAgIX7m3dCAAAAcqOld0IAAEDEna93QgAAgBaYuXdCAAAAA0DDd0IAAEBVOs13QgAAwEHi1ndCAAAAlNzgd0IAAEDm1up3QgAAQAfa83dCAACAWdT9d0IAAABGfAd4QgAAQJh2EXhCAADAhB4beEIAAADXGCV4QgAAQCkTL3hCAADAFbs4eEIAAABotUJ4QgAAgFRdTHhC\",\"dtype\":\"float64\",\"order\":\"little\",\"shape\":[33]},\"y\":{\"__ndarray__\":\"UuyxqTpZ1j+qJ4dN7qm3P8V2LjvxPrM/EkniTTWGwT/dNtLlhnzRP66CGhm6pc8/RNcau93Kyj88tZZPf1HSP053qG8TL9Q/V97Bbgkw1T/YQiv6OX7RPym7IpkNZ9Y/u36QUmWuzz9z5ypcNiTbP1EQdHSZ0c4/CdPCSVaozj90h6Wyc/bOP/Ipu2mPQsU/pPKeEIQWxT8v3QbnWQrPP7EZh/0Di84/a3QiiUOF0j+4OTh/oIrUP7uUpWi2ctU/yN9cKnsh0D/EqgbvyEfaPz/Vnr/u4Mw/5vutn0WqxT/j05xObqLGP62sQddHIMM/LiNxNfiwwj9VScT7ErnFP7EDdDbwQ8Y/\",\"dtype\":\"float64\",\"order\":\"little\",\"shape\":[33]}},\"selected\":{\"id\":\"15719\"},\"selection_policy\":{\"id\":\"15718\"}},\"id\":\"15686\",\"type\":\"ColumnDataSource\"},{\"attributes\":{},\"id\":\"15372\",\"type\":\"YearsTicker\"},{\"attributes\":{\"source\":{\"id\":\"15344\"}},\"id\":\"15349\",\"type\":\"CDSView\"},{\"attributes\":{\"base\":24,\"mantissas\":[1,2,4,6,8,12],\"max_interval\":43200000.0,\"min_interval\":3600000.0,\"num_minor_ticks\":0},\"id\":\"15363\",\"type\":\"AdaptiveTicker\"},{\"attributes\":{\"label\":{\"value\":\"Manufacturing\"},\"renderers\":[{\"id\":\"15558\"}]},\"id\":\"15595\",\"type\":\"LegendItem\"},{\"attributes\":{\"days\":[1,2,3,4,5,6,7,8,9,10,11,12,13,14,15,16,17,18,19,20,21,22,23,24,25,26,27,28,29,30,31]},\"id\":\"15364\",\"type\":\"DaysTicker\"},{\"attributes\":{\"days\":[1,4,7,10,13,16,19,22,25,28]},\"id\":\"15365\",\"type\":\"DaysTicker\"},{\"attributes\":{\"source\":{\"id\":\"15440\"}},\"id\":\"15445\",\"type\":\"CDSView\"},{\"attributes\":{},\"id\":\"15330\",\"type\":\"WheelZoomTool\"},{\"attributes\":{\"days\":[1,15]},\"id\":\"15367\",\"type\":\"DaysTicker\"},{\"attributes\":{\"line_alpha\":0.2,\"line_color\":\"#B07AA1\",\"line_width\":2,\"x\":{\"field\":\"x\"},\"y\":{\"field\":\"y\"}},\"id\":\"15557\",\"type\":\"Line\"},{\"attributes\":{\"months\":[0,6]},\"id\":\"15371\",\"type\":\"MonthsTicker\"},{\"attributes\":{\"line_alpha\":0.1,\"line_color\":\"#BAB0AC\",\"line_width\":2,\"x\":{\"field\":\"x\"},\"y\":{\"field\":\"y\"}},\"id\":\"15688\",\"type\":\"Line\"},{\"attributes\":{},\"id\":\"15334\",\"type\":\"HelpTool\"},{\"attributes\":{\"months\":[0,2,4,6,8,10]},\"id\":\"15369\",\"type\":\"MonthsTicker\"},{\"attributes\":{\"label\":{\"value\":\"Retail\"},\"renderers\":[{\"id\":\"15738\"}]},\"id\":\"15783\",\"type\":\"LegendItem\"},{\"attributes\":{\"data\":{\"x\":{\"__ndarray__\":\"AAAANN4Sd0IAAIAghhx3QgAAwHKAJndCAABAXygwd0IAAICxIjp3QgAAwAMdRHdCAABA8MRNd0IAAIBCv1d3QgAAAC9nYXdCAABAgWFrd0IAAIDTW3V3QgAAgPRefndCAADARlmId0IAAEAzAZJ3QgAAgIX7m3dCAAAAcqOld0IAAEDEna93QgAAgBaYuXdCAAAAA0DDd0IAAEBVOs13QgAAwEHi1ndCAAAAlNzgd0IAAEDm1up3QgAAQAfa83dCAACAWdT9d0IAAABGfAd4QgAAQJh2EXhCAADAhB4beEIAAADXGCV4QgAAQCkTL3hCAADAFbs4eEIAAABotUJ4QgAAgFRdTHhC\",\"dtype\":\"float64\",\"order\":\"little\",\"shape\":[33]},\"y\":{\"__ndarray__\":\"e/WuLUzk4j8WCa6AfhTlPzUqCZ8dw+E/bfqZ0wSv3z9Gmm6q2MDhPwgXXSJ5Cd0/8dekcuwi3z8rgwa0+EzhP8yOBsJPnOE/vJPOa/nr4T8GXX+8pgLhP3gKx9j3Tt0/SE1UgxIz4D/GxkzsiVviPxVSgYEdq9c/n72MudpZ1T8ke8Q4rYjTP76Ovph5adI/pEN/Rkqy1D/MGhPc7eHWP6DE+SJp5NY/gTg2c8gg0z/eQZ1oMrjTP+Y4TTiEcdg/6WFE9CbV3j+pieAUAJfeP32VlxuclcY/Smgt0a9owz9ldCKNH6zEP9p5e6bQkLg/FC0B45J8wj/C6VUa9e3JP+TpvRhXddE/\",\"dtype\":\"float64\",\"order\":\"little\",\"shape\":[33]}},\"selected\":{\"id\":\"15581\"},\"selection_policy\":{\"id\":\"15580\"}},\"id\":\"15554\",\"type\":\"ColumnDataSource\"},{\"attributes\":{\"coordinates\":null,\"data_source\":{\"id\":\"15476\"},\"glyph\":{\"id\":\"15477\"},\"group\":null,\"hover_glyph\":null,\"muted_glyph\":{\"id\":\"15479\"},\"nonselection_glyph\":{\"id\":\"15478\"},\"view\":{\"id\":\"15481\"}},\"id\":\"15480\",\"type\":\"GlyphRenderer\"},{\"attributes\":{},\"id\":\"15718\",\"type\":\"UnionRenderers\"},{\"attributes\":{\"months\":[0,4,8]},\"id\":\"15370\",\"type\":\"MonthsTicker\"},{\"attributes\":{\"line_color\":\"#76B7B2\",\"line_width\":2,\"x\":{\"field\":\"x\"},\"y\":{\"field\":\"y\"}},\"id\":\"15441\",\"type\":\"Line\"},{\"attributes\":{\"line_alpha\":0.1,\"line_color\":\"#B07AA1\",\"line_width\":2,\"x\":{\"field\":\"x\"},\"y\":{\"field\":\"y\"}},\"id\":\"15556\",\"type\":\"Line\"},{\"attributes\":{},\"id\":\"15580\",\"type\":\"UnionRenderers\"},{\"attributes\":{\"coordinates\":null,\"data_source\":{\"id\":\"15596\"},\"glyph\":{\"id\":\"15597\"},\"group\":null,\"hover_glyph\":null,\"muted_glyph\":{\"id\":\"15599\"},\"nonselection_glyph\":{\"id\":\"15598\"},\"view\":{\"id\":\"15601\"}},\"id\":\"15600\",\"type\":\"GlyphRenderer\"},{\"attributes\":{},\"id\":\"15461\",\"type\":\"Selection\"},{\"attributes\":{\"label\":{\"value\":\"All\"},\"renderers\":[{\"id\":\"15348\"}]},\"id\":\"15373\",\"type\":\"LegendItem\"},{\"attributes\":{\"line_alpha\":0.1,\"line_color\":\"#4E79A7\",\"line_width\":2,\"x\":{\"field\":\"x\"},\"y\":{\"field\":\"y\"}},\"id\":\"15346\",\"type\":\"Line\"},{\"attributes\":{\"line_alpha\":0.2,\"line_color\":\"#76B7B2\",\"line_width\":2,\"x\":{\"field\":\"x\"},\"y\":{\"field\":\"y\"}},\"id\":\"15443\",\"type\":\"Line\"},{\"attributes\":{\"data\":{\"x\":{\"__ndarray__\":\"AAAANN4Sd0IAAIAghhx3QgAAwHKAJndCAABAXygwd0IAAICxIjp3QgAAwAMdRHdCAABA8MRNd0IAAIBCv1d3QgAAAC9nYXdCAABAgWFrd0IAAIDTW3V3QgAAgPRefndCAADARlmId0IAAEAzAZJ3QgAAgIX7m3dCAAAAcqOld0IAAEDEna93QgAAgBaYuXdCAAAAA0DDd0IAAEBVOs13QgAAwEHi1ndCAAAAlNzgd0IAAEDm1up3QgAAQAfa83dCAACAWdT9d0IAAABGfAd4QgAAQJh2EXhCAADAhB4beEIAAADXGCV4QgAAQCkTL3hCAADAFbs4eEIAAABotUJ4QgAAgFRdTHhC\",\"dtype\":\"float64\",\"order\":\"little\",\"shape\":[33]},\"y\":{\"__ndarray__\":\"R4U5BucX4D9SUoL2kSHGPzspgMt2MMI/Aw5b4hnhwz/hFdk+iaLTPy88Qq24V9A/BAXvKxnEzz94X3XPzOTWP34f6wTPEdk/65Q1tISz1j8cJep2pUvUP+oqeeNGFNQ/iCEf4i4y1z+O4VJBBVHcP4V+5cpaf88/5VH/38YN0j+XzVPzfHrOP5nO3Rq/Ucg/sAZbOSh7yT9F9O2ItfnRP8WLlRFHY9I/zHZFWDN9zz+MsFakLPrGP9syHz6Dus8/cY4r7TAx0z95+z/tWzbQP6N3Dtq22MU/7raTlo3PxT/ulfInDNPCP45VXnaIdb0/+lfLsr5+wD98MZJmWSXCPwgINoVxQr8/\",\"dtype\":\"float64\",\"order\":\"little\",\"shape\":[33]}},\"selected\":{\"id\":\"15461\"},\"selection_policy\":{\"id\":\"15460\"}},\"id\":\"15440\",\"type\":\"ColumnDataSource\"},{\"attributes\":{\"bottom_units\":\"screen\",\"coordinates\":null,\"fill_alpha\":0.5,\"fill_color\":\"lightgrey\",\"group\":null,\"left_units\":\"screen\",\"level\":\"overlay\",\"line_alpha\":1.0,\"line_color\":\"black\",\"line_dash\":[4,4],\"line_width\":2,\"right_units\":\"screen\",\"syncable\":false,\"top_units\":\"screen\"},\"id\":\"15335\",\"type\":\"BoxAnnotation\"},{\"attributes\":{\"line_alpha\":0.1,\"line_color\":\"#76B7B2\",\"line_width\":2,\"x\":{\"field\":\"x\"},\"y\":{\"field\":\"y\"}},\"id\":\"15442\",\"type\":\"Line\"},{\"attributes\":{\"num_minor_ticks\":5,\"tickers\":[{\"id\":\"15361\"},{\"id\":\"15362\"},{\"id\":\"15363\"},{\"id\":\"15364\"},{\"id\":\"15365\"},{\"id\":\"15366\"},{\"id\":\"15367\"},{\"id\":\"15368\"},{\"id\":\"15369\"},{\"id\":\"15370\"},{\"id\":\"15371\"},{\"id\":\"15372\"}]},\"id\":\"15322\",\"type\":\"DatetimeTicker\"},{\"attributes\":{\"label\":{\"value\":\"Lifestyle Services\"},\"renderers\":[{\"id\":\"15480\"}]},\"id\":\"15513\",\"type\":\"LegendItem\"},{\"attributes\":{},\"id\":\"15460\",\"type\":\"UnionRenderers\"},{\"attributes\":{\"line_color\":\"#4E79A7\",\"line_width\":2,\"x\":{\"field\":\"x\"},\"y\":{\"field\":\"y\"}},\"id\":\"15345\",\"type\":\"Line\"},{\"attributes\":{\"source\":{\"id\":\"15734\"}},\"id\":\"15739\",\"type\":\"CDSView\"},{\"attributes\":{},\"id\":\"15317\",\"type\":\"LinearScale\"},{\"attributes\":{\"coordinates\":null,\"data_source\":{\"id\":\"15784\"},\"glyph\":{\"id\":\"15785\"},\"group\":null,\"hover_glyph\":null,\"muted_glyph\":{\"id\":\"15787\"},\"nonselection_glyph\":{\"id\":\"15786\"},\"view\":{\"id\":\"15789\"}},\"id\":\"15788\",\"type\":\"GlyphRenderer\"},{\"attributes\":{\"source\":{\"id\":\"15596\"}},\"id\":\"15601\",\"type\":\"CDSView\"},{\"attributes\":{\"line_color\":\"#7C7C7C\",\"line_width\":2,\"x\":{\"field\":\"x\"},\"y\":{\"field\":\"y\"}},\"id\":\"15735\",\"type\":\"Line\"},{\"attributes\":{},\"id\":\"15769\",\"type\":\"Selection\"},{\"attributes\":{},\"id\":\"15353\",\"type\":\"BasicTickFormatter\"},{\"attributes\":{\"tools\":[{\"id\":\"15329\"},{\"id\":\"15330\"},{\"id\":\"15331\"},{\"id\":\"15332\"},{\"id\":\"15333\"},{\"id\":\"15334\"}]},\"id\":\"15336\",\"type\":\"Toolbar\"},{\"attributes\":{\"line_color\":\"#FF9DA7\",\"line_width\":2,\"x\":{\"field\":\"x\"},\"y\":{\"field\":\"y\"}},\"id\":\"15597\",\"type\":\"Line\"},{\"attributes\":{\"line_alpha\":0.2,\"line_color\":\"#7C7C7C\",\"line_width\":2,\"x\":{\"field\":\"x\"},\"y\":{\"field\":\"y\"}},\"id\":\"15737\",\"type\":\"Line\"},{\"attributes\":{\"label\":{\"value\":\"Professional Services\"},\"renderers\":[{\"id\":\"15600\"}]},\"id\":\"15639\",\"type\":\"LegendItem\"},{\"attributes\":{\"data\":{\"x\":{\"__ndarray__\":\"AAAANN4Sd0IAAIAghhx3QgAAwHKAJndCAABAXygwd0IAAICxIjp3QgAAwAMdRHdCAABA8MRNd0IAAIBCv1d3QgAAAC9nYXdCAABAgWFrd0IAAIDTW3V3QgAAgPRefndCAADARlmId0IAAEAzAZJ3QgAAgIX7m3dCAAAAcqOld0IAAEDEna93QgAAgBaYuXdCAAAAA0DDd0IAAEBVOs13QgAAwEHi1ndCAAAAlNzgd0IAAEDm1up3QgAAQAfa83dCAACAWdT9d0IAAABGfAd4QgAAQJh2EXhCAADAhB4beEIAAADXGCV4QgAAQCkTL3hCAADAFbs4eEIAAABotUJ4QgAAgFRdTHhC\",\"dtype\":\"float64\",\"order\":\"little\",\"shape\":[33]},\"y\":{\"__ndarray__\":\"3Q+V69aF4T/jrBqgqlzaP/fBqODlDuQ/8hfkZaXg4j+uxym32gHoP6zYexa/ytw/85y2x48E4j81EUX+zxThP3QBjyfAkuU/lVu7OuDB5T8sg682B8fjP1fL8IbAV+U/ghzcAuU/5j9ui//NzCjnP3ahXWeMmOA/Ygcq84Kd4T9rPessgSDePzylzbI3INs/D96RaD0q2j8gpg13bjzcP9LGEE1ll+I/Tkak77aJ4D8AmNk3QzDYP+EJpNsifdk/q8TiFbAR2z9aP4D83L3aP66BgHI20sk/tWTC2VsZ0D/R1YHt2xnMP/8p15U0Tcc/55V1Jhs9xz//aGl8SmfIP4PVxTAQb8s/\",\"dtype\":\"float64\",\"order\":\"little\",\"shape\":[33]}},\"selected\":{\"id\":\"15769\"},\"selection_policy\":{\"id\":\"15768\"}},\"id\":\"15734\",\"type\":\"ColumnDataSource\"},{\"attributes\":{},\"id\":\"15625\",\"type\":\"Selection\"},{\"attributes\":{\"source\":{\"id\":\"15476\"}},\"id\":\"15481\",\"type\":\"CDSView\"},{\"attributes\":{\"line_alpha\":0.2,\"line_color\":\"#FF9DA7\",\"line_width\":2,\"x\":{\"field\":\"x\"},\"y\":{\"field\":\"y\"}},\"id\":\"15599\",\"type\":\"Line\"},{\"attributes\":{\"line_alpha\":0.1,\"line_color\":\"#7C7C7C\",\"line_width\":2,\"x\":{\"field\":\"x\"},\"y\":{\"field\":\"y\"}},\"id\":\"15736\",\"type\":\"Line\"},{\"attributes\":{},\"id\":\"15354\",\"type\":\"AllLabels\"},{\"attributes\":{\"label\":{\"value\":\"Travel\"},\"renderers\":[{\"id\":\"15788\"}]},\"id\":\"15835\",\"type\":\"LegendItem\"},{\"attributes\":{\"below\":[{\"id\":\"15321\"}],\"center\":[{\"id\":\"15324\"},{\"id\":\"15328\"}],\"height\":400,\"left\":[{\"id\":\"15325\"}],\"renderers\":[{\"id\":\"15348\"},{\"id\":\"15378\"},{\"id\":\"15410\"},{\"id\":\"15444\"},{\"id\":\"15480\"},{\"id\":\"15518\"},{\"id\":\"15558\"},{\"id\":\"15600\"},{\"id\":\"15644\"},{\"id\":\"15690\"},{\"id\":\"15738\"},{\"id\":\"15788\"}],\"right\":[{\"id\":\"15343\"}],\"title\":{\"id\":\"15836\"},\"toolbar\":{\"id\":\"15336\"},\"toolbar_location\":\"above\",\"width\":1000,\"x_range\":{\"id\":\"15313\"},\"x_scale\":{\"id\":\"15317\"},\"y_range\":{\"id\":\"15315\"},\"y_scale\":{\"id\":\"15319\"}},\"id\":\"15312\",\"subtype\":\"Figure\",\"type\":\"Plot\"},{\"attributes\":{\"data\":{\"x\":{\"__ndarray__\":\"AAAANN4Sd0IAAIAghhx3QgAAwHKAJndCAABAXygwd0IAAICxIjp3QgAAwAMdRHdCAABA8MRNd0IAAIBCv1d3QgAAAC9nYXdCAABAgWFrd0IAAIDTW3V3QgAAgPRefndCAADARlmId0IAAEAzAZJ3QgAAgIX7m3dCAAAAcqOld0IAAEDEna93QgAAgBaYuXdCAAAAA0DDd0IAAEBVOs13QgAAwEHi1ndCAAAAlNzgd0IAAEDm1up3QgAAQAfa83dCAACAWdT9d0IAAABGfAd4QgAAQJh2EXhCAADAhB4beEIAAADXGCV4QgAAQCkTL3hCAADAFbs4eEIAAABotUJ4QgAAgFRdTHhC\",\"dtype\":\"float64\",\"order\":\"little\",\"shape\":[33]},\"y\":{\"__ndarray__\":\"84R29Bjr4T+OsTCsLgnJPwQCU2Y1MsA/nrQKAm6ysj/bldgSCn+4P12W/pipvr0/rAgeXcpjvz9pVqkbp+zQPxsQbVorztA/nvCaTG5OzD9yR5+bXeK9P293GBMeOb0/zu3E7p1pyj/Vx/lXt3fKPyYiusxpE74/eoLvBTr8wD8Lj+ePz9m8P2QuYT52q7o/h2X54AcmvT/s34kifBrPP24d1bGaQ8s/+djr18OyyT9APbjT2dfAP6npvqspHr8/rvbJO5mWzT/bT/ozp5vIP4bW5ajj8cA/q/H18SZnwz++aiCzxai9PyEttdC1oLg/6rjRav6Nuj+iNHXf6fHOP9IGsDHTAsk/\",\"dtype\":\"float64\",\"order\":\"little\",\"shape\":[33]}},\"selected\":{\"id\":\"15625\"},\"selection_policy\":{\"id\":\"15624\"}},\"id\":\"15596\",\"type\":\"ColumnDataSource\"},{\"attributes\":{},\"id\":\"15319\",\"type\":\"LinearScale\"},{\"attributes\":{\"coordinates\":null,\"data_source\":{\"id\":\"15514\"},\"glyph\":{\"id\":\"15515\"},\"group\":null,\"hover_glyph\":null,\"muted_glyph\":{\"id\":\"15517\"},\"nonselection_glyph\":{\"id\":\"15516\"},\"view\":{\"id\":\"15519\"}},\"id\":\"15518\",\"type\":\"GlyphRenderer\"},{\"attributes\":{},\"id\":\"15768\",\"type\":\"UnionRenderers\"},{\"attributes\":{\"line_color\":\"#59A14F\",\"line_width\":2,\"x\":{\"field\":\"x\"},\"y\":{\"field\":\"y\"}},\"id\":\"15477\",\"type\":\"Line\"},{\"attributes\":{\"line_alpha\":0.1,\"line_color\":\"#FF9DA7\",\"line_width\":2,\"x\":{\"field\":\"x\"},\"y\":{\"field\":\"y\"}},\"id\":\"15598\",\"type\":\"Line\"},{\"attributes\":{\"line_color\":\"#9C755F\",\"line_width\":2,\"x\":{\"field\":\"x\"},\"y\":{\"field\":\"y\"}},\"id\":\"15641\",\"type\":\"Line\"},{\"attributes\":{},\"id\":\"15624\",\"type\":\"UnionRenderers\"},{\"attributes\":{},\"id\":\"15499\",\"type\":\"Selection\"},{\"attributes\":{\"click_policy\":\"hide\",\"coordinates\":null,\"group\":null,\"items\":[{\"id\":\"15373\"},{\"id\":\"15405\"},{\"id\":\"15439\"},{\"id\":\"15475\"},{\"id\":\"15513\"},{\"id\":\"15553\"},{\"id\":\"15595\"},{\"id\":\"15639\"},{\"id\":\"15685\"},{\"id\":\"15733\"},{\"id\":\"15783\"},{\"id\":\"15835\"}]},\"id\":\"15343\",\"type\":\"Legend\"},{\"attributes\":{\"coordinates\":null,\"data_source\":{\"id\":\"15374\"},\"glyph\":{\"id\":\"15375\"},\"group\":null,\"hover_glyph\":null,\"muted_glyph\":{\"id\":\"15377\"},\"nonselection_glyph\":{\"id\":\"15376\"},\"view\":{\"id\":\"15379\"}},\"id\":\"15378\",\"type\":\"GlyphRenderer\"},{\"attributes\":{},\"id\":\"15359\",\"type\":\"Selection\"},{\"attributes\":{\"source\":{\"id\":\"15374\"}},\"id\":\"15379\",\"type\":\"CDSView\"},{\"attributes\":{\"line_alpha\":0.2,\"line_color\":\"#59A14F\",\"line_width\":2,\"x\":{\"field\":\"x\"},\"y\":{\"field\":\"y\"}},\"id\":\"15479\",\"type\":\"Line\"},{\"attributes\":{\"line_color\":\"#E15759\",\"line_width\":2,\"x\":{\"field\":\"x\"},\"y\":{\"field\":\"y\"}},\"id\":\"15407\",\"type\":\"Line\"},{\"attributes\":{\"data\":{\"x\":{\"__ndarray__\":\"AAAANN4Sd0IAAIAghhx3QgAAwHKAJndCAABAXygwd0IAAICxIjp3QgAAwAMdRHdCAABA8MRNd0IAAIBCv1d3QgAAAC9nYXdCAABAgWFrd0IAAIDTW3V3QgAAgPRefndCAADARlmId0IAAEAzAZJ3QgAAgIX7m3dCAAAAcqOld0IAAEDEna93QgAAgBaYuXdCAAAAA0DDd0IAAEBVOs13QgAAwEHi1ndCAAAAlNzgd0IAAEDm1up3QgAAQAfa83dCAACAWdT9d0IAAABGfAd4QgAAQJh2EXhCAADAhB4beEIAAADXGCV4QgAAQCkTL3hCAADAFbs4eEIAAABotUJ4QgAAgFRdTHhC\",\"dtype\":\"float64\",\"order\":\"little\",\"shape\":[33]},\"y\":{\"__ndarray__\":\"T1jyXq/B3z8g83hw0ga1P/Is4kgDS9E/d9up7mEW3D+DdqW715jpP++5waq/+uA/sn/guRti4j9zUgeg20zfPzf7jxNzn98/OfVoBlcN4j8/9H152GPdP8WTqXHF+OI/d5DIT1XN4z+em4L36PvXPxT9qSEMIOA/JlhHxbj93z+tEDt7imHgP9uLGsaxINQ/tZmIvDHm1z8SntXSzlfSP8a5HFUQWNM/cvNW3IP/2T8270vkhVHMP4eK5A/rntE/lsNWkzgR1T8wDYOaXRvTP24YNN5Au8o/2qoNmO9dvz/xv4uENzHEPwL919BoJ6c/RCGKjU5jpj8ffqRGYS6hP8QaCioYHKA/\",\"dtype\":\"float64\",\"order\":\"little\",\"shape\":[33]}},\"selected\":{\"id\":\"15499\"},\"selection_policy\":{\"id\":\"15498\"}},\"id\":\"15476\",\"type\":\"ColumnDataSource\"},{\"attributes\":{\"line_color\":\"#F28E2B\",\"line_width\":2,\"x\":{\"field\":\"x\"},\"y\":{\"field\":\"y\"}},\"id\":\"15375\",\"type\":\"Line\"},{\"attributes\":{},\"id\":\"15313\",\"type\":\"DataRange1d\"},{\"attributes\":{\"line_alpha\":0.2,\"line_color\":\"#F28E2B\",\"line_width\":2,\"x\":{\"field\":\"x\"},\"y\":{\"field\":\"y\"}},\"id\":\"15377\",\"type\":\"Line\"},{\"attributes\":{\"line_alpha\":0.1,\"line_color\":\"#59A14F\",\"line_width\":2,\"x\":{\"field\":\"x\"},\"y\":{\"field\":\"y\"}},\"id\":\"15478\",\"type\":\"Line\"},{\"attributes\":{\"data\":{\"x\":{\"__ndarray__\":\"AAAANN4Sd0IAAIAghhx3QgAAwHKAJndCAABAXygwd0IAAICxIjp3QgAAwAMdRHdCAABA8MRNd0IAAIBCv1d3QgAAAC9nYXdCAABAgWFrd0IAAIDTW3V3QgAAgPRefndCAADARlmId0IAAEAzAZJ3QgAAgIX7m3dCAAAAcqOld0IAAEDEna93QgAAgBaYuXdCAAAAA0DDd0IAAEBVOs13QgAAwEHi1ndCAAAAlNzgd0IAAEDm1up3QgAAQAfa83dCAACAWdT9d0IAAABGfAd4QgAAQJh2EXhCAADAhB4beEIAAADXGCV4QgAAQCkTL3hCAADAFbs4eEIAAABotUJ4QgAAgFRdTHhC\",\"dtype\":\"float64\",\"order\":\"little\",\"shape\":[33]},\"y\":{\"__ndarray__\":\"BKuxEa4T4D/cK8sMte/WP4729f94p9Q/Stvt2/NR0z9Vk2vTpUTUP3s1NvygB9I/BT1Rtflw0j9emoUNV6DVP1U0WXY3kdQ/hKkVjN0l0T8H0C+HNUPRP7tI/Kpfd88/oqKjWk4z0j9+++0+fdbVPymvEJFKA84/EOjAcl9UzD9/IWShaprLP7pf8E4j28o/XHeTEDzByz+EO96TofvPP/N7Da0Aico/F49l6sBNyT9FdnqOO/fIP1cqp9eG+Mo/rRnZtgR1zD88KZVAvbzNP/YGCYWd6sI/Iis2GAAewT+kaSi7Nf/BP+KofeJkeb8/T45mQTJXwD+nN5JpOZvEP2daj0R2dbo/\",\"dtype\":\"float64\",\"order\":\"little\",\"shape\":[33]}},\"selected\":{\"id\":\"15391\"},\"selection_policy\":{\"id\":\"15390\"}},\"id\":\"15374\",\"type\":\"ColumnDataSource\"},{\"attributes\":{},\"id\":\"15498\",\"type\":\"UnionRenderers\"},{\"attributes\":{\"line_alpha\":0.1,\"line_color\":\"#F28E2B\",\"line_width\":2,\"x\":{\"field\":\"x\"},\"y\":{\"field\":\"y\"}},\"id\":\"15376\",\"type\":\"Line\"},{\"attributes\":{\"source\":{\"id\":\"15784\"}},\"id\":\"15789\",\"type\":\"CDSView\"},{\"attributes\":{\"label\":{\"value\":\"Business & Utility Services\"},\"renderers\":[{\"id\":\"15378\"}]},\"id\":\"15405\",\"type\":\"LegendItem\"}],\"root_ids\":[\"15906\"]},\"title\":\"Bokeh Application\",\"version\":\"2.4.3\"}};\n  const render_items = [{\"docid\":\"a0676cf4-2893-48dd-b979-8ad63729014d\",\"root_ids\":[\"15906\"],\"roots\":{\"15906\":\"2ed3e315-ca93-4e10-a319-8972ce81663f\"}}];\n  root.Bokeh.embed.embed_items_notebook(docs_json, render_items);\n  }\n  if (root.Bokeh !== undefined) {\n    embed_document(root);\n  } else {\n    let attempts = 0;\n    const timer = setInterval(function(root) {\n      if (root.Bokeh !== undefined) {\n        clearInterval(timer);\n        embed_document(root);\n      } else {\n        attempts++;\n        if (attempts > 100) {\n          clearInterval(timer);\n          console.log(\"Bokeh: ERROR: Unable to run BokehJS code because BokehJS library is missing\");\n        }\n      }\n    }, 10, root)\n  }\n})(window);",
      "application/vnd.bokehjs_exec.v0+json": ""
     },
     "metadata": {
      "application/vnd.bokehjs_exec.v0+json": {
       "id": "15906"
      }
     },
     "output_type": "display_data"
    }
   ],
   "source": [
    "output_notebook()\n",
    "bokeh.core.validation.silence(EMPTY_LAYOUT, True)\n",
    "bokeh.core.validation.silence(MISSING_RENDERERS, True)\n",
    "\n",
    "tabs = []\n",
    "\n",
    "tabs.append(\n",
    "    Panel(\n",
    "    child=get_line_plot(df, f\"Business Activity (National average post 1st March 2020)\", \"Source: Data for Good Meta\", subtitle = 'National average post COVID-19 compared to pre-pandemic baseline'),\n",
    "                title='2022',\n",
    "            )\n",
    "            )\n",
    "\n",
    "tabs = Tabs(tabs=tabs, sizing_mode=\"scale_both\")\n",
    "show(tabs, warn_on_missing_glyphs=False)"
   ]
  }
 ],
 "metadata": {
  "kernelspec": {
   "display_name": "lebanon-economic-monitor",
   "language": "python",
   "name": "python3"
  },
  "language_info": {
   "codemirror_mode": {
    "name": "ipython",
    "version": 3
   },
   "file_extension": ".py",
   "mimetype": "text/x-python",
   "name": "python",
   "nbconvert_exporter": "python",
   "pygments_lexer": "ipython3",
   "version": "3.10.12"
  }
 },
 "nbformat": 4,
 "nbformat_minor": 2
}
