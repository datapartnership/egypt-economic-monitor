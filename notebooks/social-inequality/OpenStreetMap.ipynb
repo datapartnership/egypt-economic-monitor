{
 "cells": [
  {
   "cell_type": "code",
   "execution_count": 1,
   "metadata": {},
   "outputs": [],
   "source": [
    "import pandas as pd\n",
    "import geopandas as gpd\n",
    "import numpy as np"
   ]
  },
  {
   "cell_type": "code",
   "execution_count": null,
   "metadata": {},
   "outputs": [],
   "source": [
    "import osmnx as ox\n",
    "import networkx as nx\n",
    "import matplotlib.pyplot as plt\n",
    "\n",
    "# Define the location\n",
    "place_name = \"Egypt\"\n",
    "\n",
    "# Download the road network\n",
    "graph = ox.graph_from_place(place_name, network_type='drive')\n",
    "\n",
    "# Plot the graph\n",
    "fig, ax = ox.plot_graph(graph)\n",
    "plt.show()\n"
   ]
  },
  {
   "cell_type": "code",
   "execution_count": 7,
   "metadata": {},
   "outputs": [],
   "source": [
    "import overpy\n",
    "\n",
    "api = overpy.Overpass()\n",
    "\n",
    "# Define the Overpass query\n",
    "query = \"\"\"\n",
    "area[\"name\"=\"Egypt\"]->.searchArea;\n",
    "(\n",
    "  node[\"amenity\"=\"restaurant\"](area.searchArea);\n",
    "  way[\"amenity\"=\"restaurant\"](area.searchArea);\n",
    "  relation[\"amenity\"=\"restaurant\"](area.searchArea);\n",
    ");\n",
    "out body;\n",
    "\"\"\"\n",
    "\n",
    "# Fetch the data\n",
    "result = api.query(query)\n",
    "\n",
    "# Process the results\n",
    "for poi in result.nodes:\n",
    "    print(poi.tags.get(\"name\", \"n/a\"), poi.lat, poi.lon)\n"
   ]
  },
  {
   "cell_type": "code",
   "execution_count": 8,
   "metadata": {},
   "outputs": [
    {
     "data": {
      "text/plain": [
       "[]"
      ]
     },
     "execution_count": 8,
     "metadata": {},
     "output_type": "execute_result"
    }
   ],
   "source": [
    "result.nodes"
   ]
  }
 ],
 "metadata": {
  "kernelspec": {
   "display_name": "lebanon-economic-monitor",
   "language": "python",
   "name": "python3"
  },
  "language_info": {
   "codemirror_mode": {
    "name": "ipython",
    "version": 3
   },
   "file_extension": ".py",
   "mimetype": "text/x-python",
   "name": "python",
   "nbconvert_exporter": "python",
   "pygments_lexer": "ipython3",
   "version": "3.10.12"
  }
 },
 "nbformat": 4,
 "nbformat_minor": 2
}
